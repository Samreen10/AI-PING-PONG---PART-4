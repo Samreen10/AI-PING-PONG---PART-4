{
 "cells": [
  {
   "cell_type": "code",
   "execution_count": 1,
   "metadata": {},
   "outputs": [
    {
     "name": "stdout",
     "output_type": "stream",
     "text": [
      "Welcome to Samreeen's Sandwich Shop. Please place your order.\n",
      "Please enter a positive number (0 or higher).\n"
     ]
    },
    {
     "ename": "KeyboardInterrupt",
     "evalue": "Interrupted by user",
     "output_type": "error",
     "traceback": [
      "\u001b[1;31m---------------------------------------------------------------------------\u001b[0m",
      "\u001b[1;31mKeyboardInterrupt\u001b[0m                         Traceback (most recent call last)",
      "Cell \u001b[1;32mIn[1], line 47\u001b[0m\n\u001b[0;32m     44\u001b[0m order[\u001b[38;5;124m'\u001b[39m\u001b[38;5;124mdrink\u001b[39m\u001b[38;5;124m'\u001b[39m][drink_size] \u001b[38;5;241m=\u001b[39m quantity_drink\n\u001b[0;32m     46\u001b[0m fries_size \u001b[38;5;241m=\u001b[39m get_valid_input(\u001b[38;5;124m\"\u001b[39m\u001b[38;5;124mWhat size fries would you like? small, medium, large\u001b[39m\u001b[38;5;124m\"\u001b[39m, menu[\u001b[38;5;124m'\u001b[39m\u001b[38;5;124mfries\u001b[39m\u001b[38;5;124m'\u001b[39m])\u001b[38;5;241m.\u001b[39mlower()\n\u001b[1;32m---> 47\u001b[0m quantity_fries \u001b[38;5;241m=\u001b[39m \u001b[43mget_positive_input\u001b[49m\u001b[43m(\u001b[49m\u001b[38;5;124;43m\"\u001b[39;49m\u001b[38;5;124;43mHow many fries do you want?\u001b[39;49m\u001b[38;5;124;43m\"\u001b[39;49m\u001b[43m)\u001b[49m\n\u001b[0;32m     48\u001b[0m order[\u001b[38;5;124m'\u001b[39m\u001b[38;5;124mfries\u001b[39m\u001b[38;5;124m'\u001b[39m][fries_size] \u001b[38;5;241m=\u001b[39m quantity_fries\n\u001b[0;32m     50\u001b[0m quantity_ketchup \u001b[38;5;241m=\u001b[39m get_positive_input(\u001b[38;5;124m\"\u001b[39m\u001b[38;5;124mHow many ketchup packets do you want?\u001b[39m\u001b[38;5;124m\"\u001b[39m)\n",
      "Cell \u001b[1;32mIn[1], line 18\u001b[0m, in \u001b[0;36mget_positive_input\u001b[1;34m(prompt)\u001b[0m\n\u001b[0;32m     16\u001b[0m \u001b[38;5;28;01mdef\u001b[39;00m \u001b[38;5;21mget_positive_input\u001b[39m(prompt):\n\u001b[0;32m     17\u001b[0m     \u001b[38;5;28;01mwhile\u001b[39;00m \u001b[38;5;28;01mTrue\u001b[39;00m:\n\u001b[1;32m---> 18\u001b[0m         user_input \u001b[38;5;241m=\u001b[39m \u001b[38;5;28;43minput\u001b[39;49m\u001b[43m(\u001b[49m\u001b[43mprompt\u001b[49m\u001b[43m)\u001b[49m\n\u001b[0;32m     19\u001b[0m         \u001b[38;5;28;01mif\u001b[39;00m user_input\u001b[38;5;241m.\u001b[39misdigit() \u001b[38;5;129;01mand\u001b[39;00m \u001b[38;5;28mint\u001b[39m(user_input) \u001b[38;5;241m>\u001b[39m\u001b[38;5;241m=\u001b[39m \u001b[38;5;241m0\u001b[39m:\n\u001b[0;32m     20\u001b[0m             \u001b[38;5;28;01mreturn\u001b[39;00m \u001b[38;5;28mint\u001b[39m(user_input)\n",
      "File \u001b[1;32m~\\AppData\\Local\\Packages\\PythonSoftwareFoundation.Python.3.11_qbz5n2kfra8p0\\LocalCache\\local-packages\\Python311\\site-packages\\ipykernel\\kernelbase.py:1261\u001b[0m, in \u001b[0;36mKernel.raw_input\u001b[1;34m(self, prompt)\u001b[0m\n\u001b[0;32m   1259\u001b[0m     msg \u001b[38;5;241m=\u001b[39m \u001b[38;5;124m\"\u001b[39m\u001b[38;5;124mraw_input was called, but this frontend does not support input requests.\u001b[39m\u001b[38;5;124m\"\u001b[39m\n\u001b[0;32m   1260\u001b[0m     \u001b[38;5;28;01mraise\u001b[39;00m StdinNotImplementedError(msg)\n\u001b[1;32m-> 1261\u001b[0m \u001b[38;5;28;01mreturn\u001b[39;00m \u001b[38;5;28;43mself\u001b[39;49m\u001b[38;5;241;43m.\u001b[39;49m\u001b[43m_input_request\u001b[49m\u001b[43m(\u001b[49m\n\u001b[0;32m   1262\u001b[0m \u001b[43m    \u001b[49m\u001b[38;5;28;43mstr\u001b[39;49m\u001b[43m(\u001b[49m\u001b[43mprompt\u001b[49m\u001b[43m)\u001b[49m\u001b[43m,\u001b[49m\n\u001b[0;32m   1263\u001b[0m \u001b[43m    \u001b[49m\u001b[38;5;28;43mself\u001b[39;49m\u001b[38;5;241;43m.\u001b[39;49m\u001b[43m_parent_ident\u001b[49m\u001b[43m[\u001b[49m\u001b[38;5;124;43m\"\u001b[39;49m\u001b[38;5;124;43mshell\u001b[39;49m\u001b[38;5;124;43m\"\u001b[39;49m\u001b[43m]\u001b[49m\u001b[43m,\u001b[49m\n\u001b[0;32m   1264\u001b[0m \u001b[43m    \u001b[49m\u001b[38;5;28;43mself\u001b[39;49m\u001b[38;5;241;43m.\u001b[39;49m\u001b[43mget_parent\u001b[49m\u001b[43m(\u001b[49m\u001b[38;5;124;43m\"\u001b[39;49m\u001b[38;5;124;43mshell\u001b[39;49m\u001b[38;5;124;43m\"\u001b[39;49m\u001b[43m)\u001b[49m\u001b[43m,\u001b[49m\n\u001b[0;32m   1265\u001b[0m \u001b[43m    \u001b[49m\u001b[43mpassword\u001b[49m\u001b[38;5;241;43m=\u001b[39;49m\u001b[38;5;28;43;01mFalse\u001b[39;49;00m\u001b[43m,\u001b[49m\n\u001b[0;32m   1266\u001b[0m \u001b[43m\u001b[49m\u001b[43m)\u001b[49m\n",
      "File \u001b[1;32m~\\AppData\\Local\\Packages\\PythonSoftwareFoundation.Python.3.11_qbz5n2kfra8p0\\LocalCache\\local-packages\\Python311\\site-packages\\ipykernel\\kernelbase.py:1304\u001b[0m, in \u001b[0;36mKernel._input_request\u001b[1;34m(self, prompt, ident, parent, password)\u001b[0m\n\u001b[0;32m   1301\u001b[0m \u001b[38;5;28;01mexcept\u001b[39;00m \u001b[38;5;167;01mKeyboardInterrupt\u001b[39;00m:\n\u001b[0;32m   1302\u001b[0m     \u001b[38;5;66;03m# re-raise KeyboardInterrupt, to truncate traceback\u001b[39;00m\n\u001b[0;32m   1303\u001b[0m     msg \u001b[38;5;241m=\u001b[39m \u001b[38;5;124m\"\u001b[39m\u001b[38;5;124mInterrupted by user\u001b[39m\u001b[38;5;124m\"\u001b[39m\n\u001b[1;32m-> 1304\u001b[0m     \u001b[38;5;28;01mraise\u001b[39;00m \u001b[38;5;167;01mKeyboardInterrupt\u001b[39;00m(msg) \u001b[38;5;28;01mfrom\u001b[39;00m \u001b[38;5;28;01mNone\u001b[39;00m\n\u001b[0;32m   1305\u001b[0m \u001b[38;5;28;01mexcept\u001b[39;00m \u001b[38;5;167;01mException\u001b[39;00m:\n\u001b[0;32m   1306\u001b[0m     \u001b[38;5;28mself\u001b[39m\u001b[38;5;241m.\u001b[39mlog\u001b[38;5;241m.\u001b[39mwarning(\u001b[38;5;124m\"\u001b[39m\u001b[38;5;124mInvalid Message:\u001b[39m\u001b[38;5;124m\"\u001b[39m, exc_info\u001b[38;5;241m=\u001b[39m\u001b[38;5;28;01mTrue\u001b[39;00m)\n",
      "\u001b[1;31mKeyboardInterrupt\u001b[0m: Interrupted by user"
     ]
    }
   ],
   "source": [
    "menu = {\n",
    "    'sandwich': {'chicken': 5.25, 'beef': 6.25, 'tofu': 5.75},\n",
    "    'drink': {'small': 1.00, 'medium': 1.75, 'large': 2.25},\n",
    "    'fries': {'small': 1.00, 'medium': 1.50, 'large': 2.00},\n",
    "    'ketchup': 0.25\n",
    "}\n",
    "\n",
    "def get_valid_input(prompt, options):\n",
    "    while True:\n",
    "        user_input = input(prompt).lower()\n",
    "        if user_input in options:\n",
    "            return user_input\n",
    "        else:\n",
    "            print(\"Invalid input\")\n",
    "\n",
    "def get_positive_input(prompt):\n",
    "    while True:\n",
    "        user_input = input(prompt)\n",
    "        if user_input.isdigit() and int(user_input) >= 0:\n",
    "            return int(user_input)\n",
    "        else:\n",
    "            print(\"Please enter a positive number (0 or higher).\")\n",
    "\n",
    "def total_cost(order):\n",
    "    total_cost = 0\n",
    "    for type, object in order.items():\n",
    "        if type != 'ketchup':\n",
    "            for item, quantity in object.items():\n",
    "                total_cost += menu[type][item] * quantity\n",
    "        else:\n",
    "            total_cost += menu[type] * object\n",
    "    return total_cost\n",
    "\n",
    "print(\"Welcome to Samreeen's Sandwich Shop. Please place your order.\")\n",
    "\n",
    "order = {'sandwich': {}, 'drink': {}, 'fries': {}, 'ketchup': 0}\n",
    "\n",
    "sandwich_type = get_valid_input(\"What sandwich type do you want? chicken, beef, tofu\", menu['sandwich']).lower()\n",
    "quantity_sandwich = get_positive_input(\"How many sandwiches do you want?\")\n",
    "order['sandwich'][sandwich_type] = quantity_sandwich\n",
    "\n",
    "drink_size = get_valid_input(\"What size drink do you want? small, medium, large\", menu['drink']).lower()\n",
    "quantity_drink = get_positive_input(\"How many drinks do you want?\")\n",
    "order['drink'][drink_size] = quantity_drink\n",
    "\n",
    "fries_size = get_valid_input(\"What size fries would you like? small, medium, large\", menu['fries']).lower()\n",
    "quantity_fries = get_positive_input(\"How many fries do you want?\")\n",
    "order['fries'][fries_size] = quantity_fries\n",
    "\n",
    "quantity_ketchup = get_positive_input(\"How many ketchup packets do you want?\")\n",
    "order['ketchup'] = quantity_ketchup\n",
    "\n",
    "total_cost = total_cost(order)\n",
    "\n",
    "print(\"Thanks for buying with us. Your order:\")\n",
    "print(order)\n",
    "print(\"Total Cost: $\" + str(total_cost))"
   ]
  },
  {
   "cell_type": "code",
   "execution_count": null,
   "metadata": {},
   "outputs": [],
   "source": []
  }
 ],
 "metadata": {
  "kernelspec": {
   "display_name": "Python 3",
   "language": "python",
   "name": "python3"
  },
  "language_info": {
   "name": "python",
   "version": "3.11.9"
  }
 },
 "nbformat": 4,
 "nbformat_minor": 2
}
